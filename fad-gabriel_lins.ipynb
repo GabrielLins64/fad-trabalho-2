{
 "cells": [
  {
   "attachments": {},
   "cell_type": "markdown",
   "metadata": {},
   "source": [
    "<center>\n",
    "  <img src=\"assets/lamac-uece.png\" width=\"450\">\n",
    "  <h2>Universidade Estadual do Ceará</h2>\n",
    "  <h2>Laboratório de Matemática Computacional (LaMaC)</h2>\n",
    "</center>"
   ]
  },
  {
   "attachments": {},
   "cell_type": "markdown",
   "metadata": {},
   "source": [
    "## Disciplina de Fundamentos de Análise de Dados\n",
    "\n",
    "**Docente**: Prof. Thelmo Pontes de Araújo, Ph.D.<br>\n",
    "**Discente**: B.Sc. Gabriel Furtado Lins Melo"
   ]
  },
  {
   "attachments": {},
   "cell_type": "markdown",
   "metadata": {},
   "source": [
    "---"
   ]
  },
  {
   "attachments": {},
   "cell_type": "markdown",
   "metadata": {},
   "source": [
    "## Classificação: SVD\n",
    "\n",
    "A Decomposição de Valor Singular (SVD), como visto, encontra os au-\n",
    "tovetores e (a raiz quadrada dos) autovalores da matriz de covariância dos\n",
    "dados X T X , sem calculá-la explicitamente. Assim, a redução de dimensio-\n",
    "nalidade para o problema de classificação pode ser realizada utilizando\n",
    "\n",
    "$$ X = USV^T $$"
   ]
  },
  {
   "attachments": {},
   "cell_type": "markdown",
   "metadata": {},
   "source": [
    "## 1. Banco de Dados\n",
    "\n",
    "Inicialmente, obtemos o nome de arquivo dos dados do dataset e seus rótulos (labels). Então pegamos, também, os rótulos individualmente (unique_labels)"
   ]
  },
  {
   "cell_type": "code",
   "execution_count": 1,
   "metadata": {},
   "outputs": [
    {
     "name": "stdout",
     "output_type": "stream",
     "text": [
      "Number of labels: 50\n",
      "{'18654', '3039', '3024', '3020', '4274', '4490', '3022', '3005', '4150', '3037', '3062', '3003', '2420', '41678', '3068', '85984', '41677', '3794', '3004', '3298', '3070', '4286', '3046', '3010', '15672', '6632', '6143', '3675', '2780', '3659', '3021', '54200', '14719', '27925', '3038', '43857', '3001', '3069', '3700', '3622', '3623', '99301', '3023', '3045', '33909', '2357', '3063', '3002', '43093', '3040'}\n"
     ]
    }
   ],
   "source": [
    "import os\n",
    "import cv2\n",
    "import numpy as np\n",
    "\n",
    "DATASET_PATH = 'dataset/dataset/'\n",
    "RESIZED_PATH = 'dataset/resized/'\n",
    "\n",
    "filenames = os.listdir(DATASET_PATH)\n",
    "labels = [filename.split(' ')[0] for filename in filenames]\n",
    "unique_labels = set(labels)\n",
    "\n",
    "print(f'Number of labels: {len(unique_labels)}')\n",
    "print(unique_labels)"
   ]
  },
  {
   "attachments": {},
   "cell_type": "markdown",
   "metadata": {},
   "source": [
    "Então, carregaremos em um DataFrame Pandas os nomes de arquivos e os labes (não iremos carregar as imagens em memória até o momento adequado) e usamos o scikit-learn para separá-lo em conjuntos de treinamento e teste (60% / 40%)."
   ]
  },
  {
   "cell_type": "code",
   "execution_count": 2,
   "metadata": {},
   "outputs": [],
   "source": [
    "import pandas as pd\n",
    "from sklearn.model_selection import train_test_split\n",
    "\n",
    "data = pd.DataFrame({'Image File': filenames, 'Lego Type': labels})\n",
    "train_data, test_data = train_test_split(data, test_size=0.2, stratify=data['Lego Type'], random_state=43)"
   ]
  },
  {
   "cell_type": "code",
   "execution_count": 3,
   "metadata": {},
   "outputs": [
    {
     "name": "stdout",
     "output_type": "stream",
     "text": [
      "640\n",
      "Training data:\n",
      "                                Image File Lego Type\n",
      "20644   3063 Curved Brick 2 Knobs 199R.png      3063\n",
      "9445               3622 brick 1x3 083L.png      3622\n",
      "8047    3063 Curved Brick 2 Knobs 167R.png      3063\n",
      "4007           3070 Flat Tile 1x1 041R.png      3070\n",
      "11375              43857 beam 1x2 130R.png     43857\n",
      "...                                    ...       ...\n",
      "12437               18654 beam 1M 349L.png     18654\n",
      "37958         15672 roof tile 1x2 214L.png     15672\n",
      "20853  3675 roof tile outside 3x3 018L.png      3675\n",
      "3314       2780 Peg with friction 264R.png      2780\n",
      "24129          3037 roof tile 1x4 381R.png      3037\n",
      "\n",
      "[32000 rows x 2 columns]\n",
      "Test data:\n",
      "                                         Image File Lego Type\n",
      "28304  43093 Bush 2M friction - Cross axle 247L.png     43093\n",
      "2425     3045 roof corner outside tile 2x2 003L.png      3045\n",
      "9927                        3005 brick 1x1 134L.png      3005\n",
      "7587                  3062 Round Brick 1x1 125R.png      3062\n",
      "9828                        3023 Plate 1x2 344R.png      3023\n",
      "...                                             ...       ...\n",
      "27717                       3024 plate 1x1 345R.png      3024\n",
      "14283                       3020 plate 2x4 244R.png      3020\n",
      "31465                2420 plate corner 2x2 146L.png      2420\n",
      "26779                       3020 plate 2x4 381R.png      3020\n",
      "10707                       3005 brick 1x1 386L.png      3005\n",
      "\n",
      "[8000 rows x 2 columns]\n"
     ]
    }
   ],
   "source": [
    "train_size_per_class = len(train_data[train_data['Lego Type'] == '3068'])\n",
    "print(train_size_per_class)\n",
    "\n",
    "print(\"Training data:\")\n",
    "print(train_data)\n",
    "\n",
    "print(\"Test data:\")\n",
    "print(test_data)"
   ]
  },
  {
   "attachments": {},
   "cell_type": "markdown",
   "metadata": {},
   "source": [
    "Agora, vamos carregar as imagens de treinamento e de teste em seus DataFrames e reduzir seus tamanhos de 400x400 para 40x40."
   ]
  },
  {
   "attachments": {},
   "cell_type": "markdown",
   "metadata": {},
   "source": [
    "### Carregar imagens originais, redimensioná-las e salvar as \"miniaturas\""
   ]
  },
  {
   "cell_type": "code",
   "execution_count": 4,
   "metadata": {},
   "outputs": [],
   "source": [
    "# def load_image(image_path):\n",
    "#     img = cv2.imread(f'{DATASET_PATH}/{image_path}', cv2.IMREAD_GRAYSCALE)\n",
    "#     resized = cv2.resize(img, (40,40))\n",
    "#     cv2.imwrite(f'{RESIZED_PATH}/{image_path}', resized)\n",
    "#     return resized\n",
    "\n",
    "# train_data['Image'] = train_data['Image File'].apply(load_image)\n",
    "# test_data['Image'] = test_data['Image File'].apply(load_image)"
   ]
  },
  {
   "attachments": {},
   "cell_type": "markdown",
   "metadata": {},
   "source": [
    "### Carregar as imagens já redimensionalizadas"
   ]
  },
  {
   "cell_type": "code",
   "execution_count": 5,
   "metadata": {},
   "outputs": [],
   "source": [
    "def load_image(image_path):\n",
    "    return cv2.imread(os.path.join(RESIZED_PATH, image_path), cv2.IMREAD_GRAYSCALE)\n",
    "\n",
    "train_data['Image'] = train_data['Image File'].apply(load_image)\n",
    "test_data['Image'] = test_data['Image File'].apply(load_image)"
   ]
  },
  {
   "attachments": {},
   "cell_type": "markdown",
   "metadata": {},
   "source": []
  },
  {
   "cell_type": "code",
   "execution_count": 6,
   "metadata": {},
   "outputs": [
    {
     "name": "stdout",
     "output_type": "stream",
     "text": [
      "Training data:\n",
      "                                Image File Lego Type  \\\n",
      "20644   3063 Curved Brick 2 Knobs 199R.png      3063   \n",
      "9445               3622 brick 1x3 083L.png      3622   \n",
      "8047    3063 Curved Brick 2 Knobs 167R.png      3063   \n",
      "4007           3070 Flat Tile 1x1 041R.png      3070   \n",
      "11375              43857 beam 1x2 130R.png     43857   \n",
      "...                                    ...       ...   \n",
      "12437               18654 beam 1M 349L.png     18654   \n",
      "37958         15672 roof tile 1x2 214L.png     15672   \n",
      "20853  3675 roof tile outside 3x3 018L.png      3675   \n",
      "3314       2780 Peg with friction 264R.png      2780   \n",
      "24129          3037 roof tile 1x4 381R.png      3037   \n",
      "\n",
      "                                                   Image  \n",
      "20644  [[0, 0, 0, 0, 0, 0, 0, 0, 0, 0, 0, 0, 0, 0, 0,...  \n",
      "9445   [[0, 0, 0, 0, 0, 0, 0, 0, 0, 0, 0, 0, 0, 0, 0,...  \n",
      "8047   [[0, 0, 0, 0, 0, 0, 0, 0, 0, 0, 0, 0, 0, 0, 0,...  \n",
      "4007   [[0, 0, 0, 0, 0, 0, 0, 0, 0, 0, 0, 0, 0, 0, 0,...  \n",
      "11375  [[0, 0, 0, 0, 0, 0, 0, 0, 0, 0, 0, 0, 0, 0, 0,...  \n",
      "...                                                  ...  \n",
      "12437  [[0, 0, 0, 0, 0, 0, 0, 0, 0, 0, 0, 0, 0, 0, 0,...  \n",
      "37958  [[0, 0, 0, 0, 0, 0, 0, 0, 0, 0, 0, 0, 0, 0, 0,...  \n",
      "20853  [[0, 0, 0, 0, 0, 0, 0, 0, 0, 0, 0, 0, 0, 0, 0,...  \n",
      "3314   [[0, 0, 0, 0, 0, 0, 0, 0, 0, 0, 0, 0, 0, 0, 0,...  \n",
      "24129  [[0, 0, 0, 0, 0, 0, 0, 0, 0, 0, 0, 0, 0, 0, 0,...  \n",
      "\n",
      "[32000 rows x 3 columns]\n"
     ]
    }
   ],
   "source": [
    "print('Training data:')\n",
    "print(train_data)"
   ]
  },
  {
   "attachments": {},
   "cell_type": "markdown",
   "metadata": {},
   "source": [
    "Visualizando uma imagem do DataFrame"
   ]
  },
  {
   "cell_type": "code",
   "execution_count": 7,
   "metadata": {},
   "outputs": [
    {
     "name": "stdout",
     "output_type": "stream",
     "text": [
      "Image File                          3038 roof tile 2x3 085L.png\n",
      "Lego Type                                                  3038\n",
      "Image         [[0, 0, 0, 0, 0, 0, 0, 0, 0, 0, 0, 0, 0, 0, 0,...\n",
      "Name: 20477, dtype: object\n",
      "Shape: (40, 40)\n"
     ]
    },
    {
     "data": {
      "image/png": "[encoded data removed]",
      "text/plain": [
       "<Figure size 200x200 with 1 Axes>"
      ]
     },
     "metadata": {},
     "output_type": "display_data"
    }
   ],
   "source": [
    "import matplotlib.pyplot as plt\n",
    "\n",
    "image_sample = train_data.iloc[8]\n",
    "print(image_sample)\n",
    "print(f'Shape: {image_sample[\"Image\"].shape}')\n",
    "\n",
    "fig = plt.figure(figsize=(2, 2)) # 4x4 inches\n",
    "plt.imshow(image_sample['Image'], cmap='gray')\n",
    "plt.axis('off')\n",
    "plt.show()"
   ]
  },
  {
   "attachments": {},
   "cell_type": "markdown",
   "metadata": {},
   "source": [
    "## 2.1. SVD da matriz de dados centralizados\n",
    "\n",
    "Antes de calcular o SVD, iremos calcular a matriz de dados centralizados $X$ para os dados de treinamento. Para isto, precisamos achatar cada imagem em um vetor e juntar todas em uma grande matriz $A$, onde as linhas serão as imagens e as colunas serão características."
   ]
  },
  {
   "cell_type": "code",
   "execution_count": 8,
   "metadata": {},
   "outputs": [
    {
     "name": "stdout",
     "output_type": "stream",
     "text": [
      "All images DF shape: (32000,)\n",
      "Image shape: (40, 40)\n",
      "A matrix shape: (32000, 1600)\n",
      "[[0 0 0 ... 0 0 0]\n",
      " [0 0 0 ... 0 0 0]\n",
      " [0 0 0 ... 0 0 0]\n",
      " ...\n",
      " [0 0 0 ... 0 0 0]\n",
      " [0 0 0 ... 0 0 0]\n",
      " [0 0 0 ... 0 0 0]]\n"
     ]
    }
   ],
   "source": [
    "images = train_data['Image'].to_numpy()\n",
    "print(f'All images DF shape: {images.shape}')\n",
    "print(f'Image shape: {images[0].shape}')\n",
    "\n",
    "A = np.array([image.flatten() for image in images])\n",
    "print(f'A matrix shape: {A.shape}')\n",
    "print(A)"
   ]
  },
  {
   "attachments": {},
   "cell_type": "markdown",
   "metadata": {},
   "source": [
    "Agora vamos tirar a média de cada coluna de $A$, gerando um vetor de médias $\\mu$. Finalmente, subtraímos de $A$ as médias de suas colunas que estão em $\\mu$ para obter a matriz de dados centralizados $X$:\n",
    "\n",
    "$$ X = A - \\mu $$"
   ]
  },
  {
   "cell_type": "code",
   "execution_count": 9,
   "metadata": {},
   "outputs": [
    {
     "name": "stdout",
     "output_type": "stream",
     "text": [
      "A shape: (32000, 1600)\n",
      "X shape: (32000, 1600)\n",
      "mu shape: (1600,)\n"
     ]
    }
   ],
   "source": [
    "mu = np.mean(A, axis=0)\n",
    "X = A - mu\n",
    "\n",
    "print(f'A shape: {A.shape}')\n",
    "print(f'X shape: {X.shape}')\n",
    "print(f'mu shape: {mu.shape}')\n",
    "\n",
    "# print(A[11990:12010,710])\n",
    "# print(X[11990:12010,710])\n",
    "# print(mu[710])"
   ]
  },
  {
   "attachments": {},
   "cell_type": "markdown",
   "metadata": {},
   "source": [
    "Agora, calculamos a SVD de $X$."
   ]
  },
  {
   "cell_type": "code",
   "execution_count": 10,
   "metadata": {},
   "outputs": [],
   "source": [
    "U, S, Vt = np.linalg.svd(X, full_matrices=False)"
   ]
  },
  {
   "cell_type": "code",
   "execution_count": 11,
   "metadata": {},
   "outputs": [
    {
     "name": "stdout",
     "output_type": "stream",
     "text": [
      "U shape: (32000, 1600)\n",
      "S shape: (1600,)\n",
      "Vt shape: (1600, 1600)\n"
     ]
    }
   ],
   "source": [
    "print(f'U shape: {U.shape}')\n",
    "print(f'S shape: {S.shape}')\n",
    "print(f'Vt shape: {Vt.shape}')"
   ]
  },
  {
   "attachments": {},
   "cell_type": "markdown",
   "metadata": {},
   "source": [
    "## 2.2. Gráfico valores singulares x variabilidade acumulada\n",
    "\n",
    "Vamos agora gerar um gráfico de número de valores singulares versus variabilidade acumulada."
   ]
  },
  {
   "cell_type": "code",
   "execution_count": 12,
   "metadata": {},
   "outputs": [],
   "source": [
    "variability = np.square(S) / np.sum(np.square(S))\n",
    "cumulative_variability = np.cumsum(variability)"
   ]
  },
  {
   "cell_type": "code",
   "execution_count": 13,
   "metadata": {},
   "outputs": [
    {
     "data": {
      "image/png": "[encoded data removed]",
      "text/plain": [
       "<Figure size 640x480 with 1 Axes>"
      ]
     },
     "metadata": {},
     "output_type": "display_data"
    }
   ],
   "source": [
    "plt.plot(range(len(S)), cumulative_variability)\n",
    "plt.xlabel('Number of Singular Values')\n",
    "plt.ylabel('Cumulative Variability')\n",
    "plt.title('Singular Values vs Cumulative Variability')\n",
    "plt.grid(True)\n",
    "plt.show()"
   ]
  },
  {
   "attachments": {},
   "cell_type": "markdown",
   "metadata": {},
   "source": [
    "Vamos escolher $k = 180$, que representa cerca de $90\\%$ da variabilidade acumulada.\n",
    "\n",
    "Então, vamos tentar visualizar algumas imagens com esse k"
   ]
  },
  {
   "cell_type": "code",
   "execution_count": 14,
   "metadata": {},
   "outputs": [],
   "source": [
    "def compress_image(image, k):\n",
    "    U, S, Vt = np.linalg.svd(image)\n",
    "\n",
    "    U_k = U[:, :k]\n",
    "    S_k = np.diag(S[:k])\n",
    "    Vt_k = Vt[:k, :]\n",
    "\n",
    "    compressed_image = U_k @ S_k @ Vt_k\n",
    "\n",
    "    return compressed_image"
   ]
  },
  {
   "cell_type": "code",
   "execution_count": 15,
   "metadata": {},
   "outputs": [],
   "source": [
    "def plot_compressed(img_num: int, ks: list[int]):\n",
    "    for k in ks:\n",
    "        image_sample = train_data.iloc[img_num]\n",
    "        compressed_image = compress_image(image_sample['Image'], k)\n",
    "\n",
    "        # Plot the original and compressed images side-by-side\n",
    "        fig, axs = plt.subplots(1, 2, figsize=(4, 2))\n",
    "\n",
    "        # Original Image\n",
    "        axs[0].imshow(image_sample['Image'], cmap='gray')\n",
    "        axs[0].set_title(f'Original {image_sample[\"Lego Type\"]}')\n",
    "        axs[0].axis('off')\n",
    "\n",
    "        # Compressed Image\n",
    "        axs[1].imshow(compressed_image, cmap='gray')\n",
    "        axs[1].set_title(f'Compressed (k = {k})')\n",
    "        axs[1].axis('off')\n",
    "\n",
    "        plt.tight_layout()\n",
    "        plt.show()"
   ]
  },
  {
   "cell_type": "code",
   "execution_count": 16,
   "metadata": {},
   "outputs": [
    {
     "data": {
      "image/png": "[encoded data removed]",
      "text/plain": [
       "<Figure size 400x200 with 2 Axes>"
      ]
     },
     "metadata": {},
     "output_type": "display_data"
    },
    {
     "data": {
      "image/png": "[encoded data removed]",
      "text/plain": [
       "<Figure size 400x200 with 2 Axes>"
      ]
     },
     "metadata": {},
     "output_type": "display_data"
    },
    {
     "data": {
      "image/png": "[encoded data removed]",
      "text/plain": [
       "<Figure size 400x200 with 2 Axes>"
      ]
     },
     "metadata": {},
     "output_type": "display_data"
    },
    {
     "data": {
      "image/png": "[encoded data removed]",
      "text/plain": [
       "<Figure size 400x200 with 2 Axes>"
      ]
     },
     "metadata": {},
     "output_type": "display_data"
    },
    {
     "data": {
      "image/png": "[encoded data removed]",
      "text/plain": [
       "<Figure size 400x200 with 2 Axes>"
      ]
     },
     "metadata": {},
     "output_type": "display_data"
    },
    {
     "data": {
      "image/png": "[encoded data removed]",
      "text/plain": [
       "<Figure size 400x200 with 2 Axes>"
      ]
     },
     "metadata": {},
     "output_type": "display_data"
    }
   ],
   "source": [
    "ks = [1, 2, 3, 10, 20, 180]\n",
    "\n",
    "plot_compressed(12, ks)"
   ]
  },
  {
   "attachments": {},
   "cell_type": "markdown",
   "metadata": {},
   "source": [
    "### Classificação com dimensionalidade reduzida\n",
    "\n",
    "De acordo com o gráfico de número de valores singulares versus variabilidade acumulada, escolhemos o $k = 180$, então vamos agora comprimir todas as imagens usando apenas os 180 primeiros valores singulares, e então resolver o problema de classificação utilizando as imagens com dimensão reduzida."
   ]
  },
  {
   "cell_type": "code",
   "execution_count": 17,
   "metadata": {},
   "outputs": [],
   "source": [
    "k = 180"
   ]
  },
  {
   "cell_type": "code",
   "execution_count": 19,
   "metadata": {},
   "outputs": [
    {
     "name": "stderr",
     "output_type": "stream",
     "text": [
      "Compressing Train Images: 100%|██████████| 32000/32000 [00:07<00:00, 4328.55it/s]\n",
      "Compressing Test Images: 100%|██████████| 8000/8000 [00:01<00:00, 4190.75it/s]\n"
     ]
    }
   ],
   "source": [
    "from tqdm import tqdm\n",
    "\n",
    "train_data['Compressed'] = ''\n",
    "test_data['Compressed'] = ''\n",
    "\n",
    "for idx, row in tqdm(train_data.iterrows(), total=train_data.shape[0], desc='Compressing Train Images'):\n",
    "    compressed = compress_image(row['Image'], k)\n",
    "    train_data.at[idx, 'Compressed'] = compressed\n",
    "\n",
    "for idx, row in tqdm(test_data.iterrows(), total=test_data.shape[0], desc='Compressing Test Images'):\n",
    "    compressed = compress_image(row['Image'], k)\n",
    "    test_data.at[idx, 'Compressed'] = compressed"
   ]
  },
  {
   "attachments": {},
   "cell_type": "markdown",
   "metadata": {},
   "source": [
    "### Classificador Naive Bayes\n",
    "\n",
    "Vamos agora separar os dados em arrays numpy e criar um classificador de Naive Bayes Gaussiano para treiná-lo com os dados de treinamento"
   ]
  },
  {
   "cell_type": "code",
   "execution_count": 20,
   "metadata": {},
   "outputs": [],
   "source": [
    "train_features = np.stack(train_data['Compressed'].values).reshape(-1, 1600)\n",
    "train_labels = train_data['Lego Type'].values\n",
    "\n",
    "test_features = np.stack(test_data['Compressed'].values).reshape(-1, 1600)\n",
    "test_labels = test_data['Lego Type'].values"
   ]
  },
  {
   "cell_type": "code",
   "execution_count": 21,
   "metadata": {},
   "outputs": [
    {
     "name": "stdout",
     "output_type": "stream",
     "text": [
      "(32000, 1600)\n",
      "(32000,)\n"
     ]
    }
   ],
   "source": [
    "print(train_features.shape)\n",
    "print(train_labels.shape)"
   ]
  },
  {
   "cell_type": "code",
   "execution_count": 22,
   "metadata": {},
   "outputs": [
    {
     "data": {
      "text/html": [
       "<style>#sk-container-id-1 {color: black;background-color: white;}#sk-container-id-1 pre{padding: 0;}#sk-container-id-1 div.sk-toggleable {background-color: white;}#sk-container-id-1 label.sk-toggleable__label {cursor: pointer;display: block;width: 100%;margin-bottom: 0;padding: 0.3em;box-sizing: border-box;text-align: center;}#sk-container-id-1 label.sk-toggleable__label-arrow:before {content: \"▸\";float: left;margin-right: 0.25em;color: #696969;}#sk-container-id-1 label.sk-toggleable__label-arrow:hover:before {color: black;}#sk-container-id-1 div.sk-estimator:hover label.sk-toggleable__label-arrow:before {color: black;}#sk-container-id-1 div.sk-toggleable__content {max-height: 0;max-width: 0;overflow: hidden;text-align: left;background-color: #f0f8ff;}#sk-container-id-1 div.sk-toggleable__content pre {margin: 0.2em;color: black;border-radius: 0.25em;background-color: #f0f8ff;}#sk-container-id-1 input.sk-toggleable__control:checked~div.sk-toggleable__content {max-height: 200px;max-width: 100%;overflow: auto;}#sk-container-id-1 input.sk-toggleable__control:checked~label.sk-toggleable__label-arrow:before {content: \"▾\";}#sk-container-id-1 div.sk-estimator input.sk-toggleable__control:checked~label.sk-toggleable__label {background-color: #d4ebff;}#sk-container-id-1 div.sk-label input.sk-toggleable__control:checked~label.sk-toggleable__label {background-color: #d4ebff;}#sk-container-id-1 input.sk-hidden--visually {border: 0;clip: rect(1px 1px 1px 1px);clip: rect(1px, 1px, 1px, 1px);height: 1px;margin: -1px;overflow: hidden;padding: 0;position: absolute;width: 1px;}#sk-container-id-1 div.sk-estimator {font-family: monospace;background-color: #f0f8ff;border: 1px dotted black;border-radius: 0.25em;box-sizing: border-box;margin-bottom: 0.5em;}#sk-container-id-1 div.sk-estimator:hover {background-color: #d4ebff;}#sk-container-id-1 div.sk-parallel-item::after {content: \"\";width: 100%;border-bottom: 1px solid gray;flex-grow: 1;}#sk-container-id-1 div.sk-label:hover label.sk-toggleable__label {background-color: #d4ebff;}#sk-container-id-1 div.sk-serial::before {content: \"\";position: absolute;border-left: 1px solid gray;box-sizing: border-box;top: 0;bottom: 0;left: 50%;z-index: 0;}#sk-container-id-1 div.sk-serial {display: flex;flex-direction: column;align-items: center;background-color: white;padding-right: 0.2em;padding-left: 0.2em;position: relative;}#sk-container-id-1 div.sk-item {position: relative;z-index: 1;}#sk-container-id-1 div.sk-parallel {display: flex;align-items: stretch;justify-content: center;background-color: white;position: relative;}#sk-container-id-1 div.sk-item::before, #sk-container-id-1 div.sk-parallel-item::before {content: \"\";position: absolute;border-left: 1px solid gray;box-sizing: border-box;top: 0;bottom: 0;left: 50%;z-index: -1;}#sk-container-id-1 div.sk-parallel-item {display: flex;flex-direction: column;z-index: 1;position: relative;background-color: white;}#sk-container-id-1 div.sk-parallel-item:first-child::after {align-self: flex-end;width: 50%;}#sk-container-id-1 div.sk-parallel-item:last-child::after {align-self: flex-start;width: 50%;}#sk-container-id-1 div.sk-parallel-item:only-child::after {width: 0;}#sk-container-id-1 div.sk-dashed-wrapped {border: 1px dashed gray;margin: 0 0.4em 0.5em 0.4em;box-sizing: border-box;padding-bottom: 0.4em;background-color: white;}#sk-container-id-1 div.sk-label label {font-family: monospace;font-weight: bold;display: inline-block;line-height: 1.2em;}#sk-container-id-1 div.sk-label-container {text-align: center;}#sk-container-id-1 div.sk-container {/* jupyter's `normalize.less` sets `[hidden] { display: none; }` but bootstrap.min.css set `[hidden] { display: none !important; }` so we also need the `!important` here to be able to override the default hidden behavior on the sphinx rendered scikit-learn.org. See: https://github.com/scikit-learn/scikit-learn/issues/21755 */display: inline-block !important;position: relative;}#sk-container-id-1 div.sk-text-repr-fallback {display: none;}</style><div id=\"sk-container-id-1\" class=\"sk-top-container\"><div class=\"sk-text-repr-fallback\"><pre>GaussianNB()</pre><b>In a Jupyter environment, please rerun this cell to show the HTML representation or trust the notebook. <br />On GitHub, the HTML representation is unable to render, please try loading this page with nbviewer.org.</b></div><div class=\"sk-container\" hidden><div class=\"sk-item\"><div class=\"sk-estimator sk-toggleable\"><input class=\"sk-toggleable__control sk-hidden--visually\" id=\"sk-estimator-id-1\" type=\"checkbox\" checked><label for=\"sk-estimator-id-1\" class=\"sk-toggleable__label sk-toggleable__label-arrow\">GaussianNB</label><div class=\"sk-toggleable__content\"><pre>GaussianNB()</pre></div></div></div></div></div>"
      ],
      "text/plain": [
       "GaussianNB()"
      ]
     },
     "execution_count": 22,
     "metadata": {},
     "output_type": "execute_result"
    }
   ],
   "source": [
    "from sklearn.naive_bayes import GaussianNB\n",
    "\n",
    "classifier = GaussianNB()\n",
    "classifier.fit(train_features, train_labels)"
   ]
  },
  {
   "cell_type": "code",
   "execution_count": 23,
   "metadata": {},
   "outputs": [
    {
     "name": "stdout",
     "output_type": "stream",
     "text": [
      "Accuracy: 0.235375\n"
     ]
    }
   ],
   "source": [
    "predicted_labels = classifier.predict(test_features)\n",
    "accuracy = np.mean(predicted_labels == test_labels)\n",
    "print(\"Accuracy:\", accuracy)"
   ]
  },
  {
   "attachments": {},
   "cell_type": "markdown",
   "metadata": {},
   "source": [
    "### Classificador KNN\n",
    "\n",
    "Devido à baixa acurácia do classificador NB, vamos testar um classificador KNN usando $K = 3$"
   ]
  },
  {
   "cell_type": "code",
   "execution_count": 24,
   "metadata": {},
   "outputs": [
    {
     "data": {
      "text/html": [
       "<style>#sk-container-id-2 {color: black;background-color: white;}#sk-container-id-2 pre{padding: 0;}#sk-container-id-2 div.sk-toggleable {background-color: white;}#sk-container-id-2 label.sk-toggleable__label {cursor: pointer;display: block;width: 100%;margin-bottom: 0;padding: 0.3em;box-sizing: border-box;text-align: center;}#sk-container-id-2 label.sk-toggleable__label-arrow:before {content: \"▸\";float: left;margin-right: 0.25em;color: #696969;}#sk-container-id-2 label.sk-toggleable__label-arrow:hover:before {color: black;}#sk-container-id-2 div.sk-estimator:hover label.sk-toggleable__label-arrow:before {color: black;}#sk-container-id-2 div.sk-toggleable__content {max-height: 0;max-width: 0;overflow: hidden;text-align: left;background-color: #f0f8ff;}#sk-container-id-2 div.sk-toggleable__content pre {margin: 0.2em;color: black;border-radius: 0.25em;background-color: #f0f8ff;}#sk-container-id-2 input.sk-toggleable__control:checked~div.sk-toggleable__content {max-height: 200px;max-width: 100%;overflow: auto;}#sk-container-id-2 input.sk-toggleable__control:checked~label.sk-toggleable__label-arrow:before {content: \"▾\";}#sk-container-id-2 div.sk-estimator input.sk-toggleable__control:checked~label.sk-toggleable__label {background-color: #d4ebff;}#sk-container-id-2 div.sk-label input.sk-toggleable__control:checked~label.sk-toggleable__label {background-color: #d4ebff;}#sk-container-id-2 input.sk-hidden--visually {border: 0;clip: rect(1px 1px 1px 1px);clip: rect(1px, 1px, 1px, 1px);height: 1px;margin: -1px;overflow: hidden;padding: 0;position: absolute;width: 1px;}#sk-container-id-2 div.sk-estimator {font-family: monospace;background-color: #f0f8ff;border: 1px dotted black;border-radius: 0.25em;box-sizing: border-box;margin-bottom: 0.5em;}#sk-container-id-2 div.sk-estimator:hover {background-color: #d4ebff;}#sk-container-id-2 div.sk-parallel-item::after {content: \"\";width: 100%;border-bottom: 1px solid gray;flex-grow: 1;}#sk-container-id-2 div.sk-label:hover label.sk-toggleable__label {background-color: #d4ebff;}#sk-container-id-2 div.sk-serial::before {content: \"\";position: absolute;border-left: 1px solid gray;box-sizing: border-box;top: 0;bottom: 0;left: 50%;z-index: 0;}#sk-container-id-2 div.sk-serial {display: flex;flex-direction: column;align-items: center;background-color: white;padding-right: 0.2em;padding-left: 0.2em;position: relative;}#sk-container-id-2 div.sk-item {position: relative;z-index: 1;}#sk-container-id-2 div.sk-parallel {display: flex;align-items: stretch;justify-content: center;background-color: white;position: relative;}#sk-container-id-2 div.sk-item::before, #sk-container-id-2 div.sk-parallel-item::before {content: \"\";position: absolute;border-left: 1px solid gray;box-sizing: border-box;top: 0;bottom: 0;left: 50%;z-index: -1;}#sk-container-id-2 div.sk-parallel-item {display: flex;flex-direction: column;z-index: 1;position: relative;background-color: white;}#sk-container-id-2 div.sk-parallel-item:first-child::after {align-self: flex-end;width: 50%;}#sk-container-id-2 div.sk-parallel-item:last-child::after {align-self: flex-start;width: 50%;}#sk-container-id-2 div.sk-parallel-item:only-child::after {width: 0;}#sk-container-id-2 div.sk-dashed-wrapped {border: 1px dashed gray;margin: 0 0.4em 0.5em 0.4em;box-sizing: border-box;padding-bottom: 0.4em;background-color: white;}#sk-container-id-2 div.sk-label label {font-family: monospace;font-weight: bold;display: inline-block;line-height: 1.2em;}#sk-container-id-2 div.sk-label-container {text-align: center;}#sk-container-id-2 div.sk-container {/* jupyter's `normalize.less` sets `[hidden] { display: none; }` but bootstrap.min.css set `[hidden] { display: none !important; }` so we also need the `!important` here to be able to override the default hidden behavior on the sphinx rendered scikit-learn.org. See: https://github.com/scikit-learn/scikit-learn/issues/21755 */display: inline-block !important;position: relative;}#sk-container-id-2 div.sk-text-repr-fallback {display: none;}</style><div id=\"sk-container-id-2\" class=\"sk-top-container\"><div class=\"sk-text-repr-fallback\"><pre>KNeighborsClassifier(n_neighbors=3)</pre><b>In a Jupyter environment, please rerun this cell to show the HTML representation or trust the notebook. <br />On GitHub, the HTML representation is unable to render, please try loading this page with nbviewer.org.</b></div><div class=\"sk-container\" hidden><div class=\"sk-item\"><div class=\"sk-estimator sk-toggleable\"><input class=\"sk-toggleable__control sk-hidden--visually\" id=\"sk-estimator-id-2\" type=\"checkbox\" checked><label for=\"sk-estimator-id-2\" class=\"sk-toggleable__label sk-toggleable__label-arrow\">KNeighborsClassifier</label><div class=\"sk-toggleable__content\"><pre>KNeighborsClassifier(n_neighbors=3)</pre></div></div></div></div></div>"
      ],
      "text/plain": [
       "KNeighborsClassifier(n_neighbors=3)"
      ]
     },
     "execution_count": 24,
     "metadata": {},
     "output_type": "execute_result"
    }
   ],
   "source": [
    "from sklearn.neighbors import KNeighborsClassifier\n",
    "\n",
    "classifier = KNeighborsClassifier(n_neighbors=3)\n",
    "classifier.fit(train_features, train_labels)"
   ]
  },
  {
   "cell_type": "code",
   "execution_count": 25,
   "metadata": {},
   "outputs": [
    {
     "name": "stdout",
     "output_type": "stream",
     "text": [
      "Accuracy: 0.563\n"
     ]
    }
   ],
   "source": [
    "predicted_labels = classifier.predict(test_features)\n",
    "accuracy = np.mean(predicted_labels == test_labels)\n",
    "print(\"Accuracy:\", accuracy)"
   ]
  },
  {
   "attachments": {},
   "cell_type": "markdown",
   "metadata": {},
   "source": [
    "## 4. Gráfico de Valores singulares versus acurácia\n",
    "\n",
    "Para cada valor singular $k \\in [1,1600]$ vamos calcular a acurácia do classificador KNN com $k = 3$, salvando os resultados parciais em um arquivo de texto. Ao final do experimento, os resultados serão coletados para plotar o gráfico de valores singulares versus acurácia."
   ]
  },
  {
   "attachments": {},
   "cell_type": "markdown",
   "metadata": {},
   "source": [
    "Algumas funções auxiliares abaixo"
   ]
  },
  {
   "cell_type": "code",
   "execution_count": 30,
   "metadata": {},
   "outputs": [],
   "source": [
    "RESULTS_PATH = 'results.csv'\n",
    "\n",
    "def compress_data(dataframe, k):\n",
    "    for idx, row in dataframe.iterrows():\n",
    "        compressed = compress_image(row['Image'], k)\n",
    "        dataframe.at[idx, 'Compressed'] = compressed\n",
    "\n",
    "def get_xy(dataframe):\n",
    "    features = np.stack(dataframe['Compressed'].values).reshape(-1, 1600)\n",
    "    labels = dataframe['Lego Type'].values\n",
    "    return features, labels\n",
    "\n",
    "def train_classifier(features, labels):\n",
    "    classifier = KNeighborsClassifier(n_neighbors=3)\n",
    "    classifier.fit(features, labels)\n",
    "    return classifier\n",
    "\n",
    "def classify(features, labels):\n",
    "    predicted_labels = classifier.predict(features)\n",
    "    accuracy = np.mean(predicted_labels == labels)\n",
    "    return accuracy\n",
    "\n",
    "def save_results(k, accuracy):\n",
    "    with open(RESULTS_PATH, 'a+') as f:\n",
    "        f.write(f'{k},{accuracy}\\n')"
   ]
  },
  {
   "cell_type": "code",
   "execution_count": 31,
   "metadata": {},
   "outputs": [
    {
     "name": "stderr",
     "output_type": "stream",
     "text": [
      "Singular Values: 100%|██████████| 1600/1600 [5:51:20<00:00, 13.18s/it]  \n"
     ]
    }
   ],
   "source": [
    "# for k in tqdm(range(1, 1601), total=1600, desc='Singular Values'):\n",
    "#     compress_data(train_data, k)\n",
    "#     compress_data(test_data, k)\n",
    "\n",
    "#     train_features, train_labels = get_xy(train_data)\n",
    "#     test_features, test_labels = get_xy(test_data)\n",
    "\n",
    "#     classifier = train_classifier(train_features, train_labels)\n",
    "#     accuracy = classify(test_features, test_labels)\n",
    "\n",
    "#     save_results(k, accuracy)"
   ]
  },
  {
   "attachments": {},
   "cell_type": "markdown",
   "metadata": {},
   "source": [
    "## Questões"
   ]
  },
  {
   "attachments": {},
   "cell_type": "markdown",
   "metadata": {},
   "source": [
    "**1. Considerando uma matriz de dados centralizados $X_{mxn}$, mostrar que\n",
    "as matrizes $X^TX$ e $XX^T$ possuem os mesmos autovalores não nulos.**"
   ]
  }
 ],
 "metadata": {
  "kernelspec": {
   "display_name": "fadWork2Venv",
   "language": "python",
   "name": "fadwork2venv"
  },
  "language_info": {
   "codemirror_mode": {
    "name": "ipython",
    "version": 3
   },
   "file_extension": ".py",
   "mimetype": "text/x-python",
   "name": "python",
   "nbconvert_exporter": "python",
   "pygments_lexer": "ipython3",
   "version": "3.10.12"
  },
  "orig_nbformat": 4
 },
 "nbformat": 4,
 "nbformat_minor": 2
}
