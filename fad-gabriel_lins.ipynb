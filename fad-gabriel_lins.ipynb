{
 "cells": [
  {
   "attachments": {},
   "cell_type": "markdown",
   "metadata": {},
   "source": [
    "<center>\n",
    "  <img src=\"assets/lamac-uece.png\" width=\"450\">\n",
    "  <h2>Universidade Estadual do Ceará</h2>\n",
    "  <h2>Laboratório de Matemática Computacional (LaMaC)</h2>\n",
    "</center>"
   ]
  },
  {
   "attachments": {},
   "cell_type": "markdown",
   "metadata": {},
   "source": [
    "## Disciplina de Fundamentos de Análise de Dados\n",
    "\n",
    "**Docente**: Prof. Thelmo Pontes de Araújo, Ph.D.<br>\n",
    "**Discente**: B.Sc. Gabriel Furtado Lins Melo"
   ]
  },
  {
   "attachments": {},
   "cell_type": "markdown",
   "metadata": {},
   "source": [
    "---"
   ]
  },
  {
   "attachments": {},
   "cell_type": "markdown",
   "metadata": {},
   "source": [
    "### Classificação: SVD\n",
    "\n",
    "A Decomposição de Valor Singular (SVD), como visto, encontra os au-\n",
    "tovetores e (a raiz quadrada dos) autovalores da matriz de covariância dos\n",
    "dados X T X , sem calculá-la explicitamente. Assim, a redução de dimensio-\n",
    "nalidade para o problema de classificação pode ser realizada utilizando\n",
    "\n",
    "$$ X = USV^T $$"
   ]
  },
  {
   "attachments": {},
   "cell_type": "markdown",
   "metadata": {},
   "source": [
    "### 1 Banco de Dados\n",
    "\n",
    "Inicialmente, obtemos o nome de arquivo dos dados do dataset e seus rótulos (labels). Então pegamos, também, os rótulos individualmente (unique_labels)"
   ]
  },
  {
   "cell_type": "code",
   "execution_count": 1,
   "metadata": {},
   "outputs": [
    {
     "name": "stdout",
     "output_type": "stream",
     "text": [
      "Number of labels: 50\n",
      "{'3063', '33909', '15672', '3038', '3046', '3004', '3298', '99301', '3623', '3001', '43093', '4490', '3068', '2420', '6143', '3045', '3010', '3037', '54200', '6632', '3794', '4286', '3022', '2780', '3021', '27925', '3002', '3062', '4150', '18654', '3003', '3020', '3675', '43857', '3069', '3024', '85984', '41678', '41677', '3005', '3070', '3023', '14719', '3700', '3040', '3659', '2357', '3622', '4274', '3039'}\n"
     ]
    }
   ],
   "source": [
    "import os\n",
    "\n",
    "DATASET_PATH = 'dataset/dataset/'\n",
    "\n",
    "filenames = os.listdir(DATASET_PATH)\n",
    "labels = [filename.split(' ')[0] for filename in filenames]\n",
    "unique_labels = set(labels)\n",
    "\n",
    "print(f'Number of labels: {len(unique_labels)}')\n",
    "print(unique_labels)"
   ]
  },
  {
   "attachments": {},
   "cell_type": "markdown",
   "metadata": {},
   "source": [
    "Então, carregaremos em um DataFrame Pandas os nomes de arquivos e os labes (não iremos carregar as imagens em memória até o momento adequado) e usamos o scikit-learn para separá-lo em conjuntos de treinamento e teste (60% / 40%)."
   ]
  },
  {
   "cell_type": "code",
   "execution_count": 2,
   "metadata": {},
   "outputs": [],
   "source": [
    "import pandas as pd\n",
    "from sklearn.model_selection import train_test_split\n",
    "\n",
    "data = pd.DataFrame({'Image File': filenames, 'Lego Type': labels})\n",
    "train_data, test_data = train_test_split(data, test_size=0.4, stratify=data['Lego Type'], random_state=43)"
   ]
  },
  {
   "cell_type": "code",
   "execution_count": 3,
   "metadata": {},
   "outputs": [
    {
     "name": "stdout",
     "output_type": "stream",
     "text": [
      "480\n",
      "Training data:\n",
      "                             Image File Lego Type\n",
      "19611           3023 Plate 1x2 293L.png      3023\n",
      "2724        3659 brick bow 1x4 045R.png      3659\n",
      "20079       3038 roof tile 2x3 262R.png      3038\n",
      "11052      85984 roof tile 1x2 223R.png     85984\n",
      "8848       15672 roof tile 1x2 246R.png     15672\n",
      "...                                 ...       ...\n",
      "19143  2357 brick corner 1x2x2 088L.png      2357\n",
      "18377            18654 beam 1M 195R.png     18654\n",
      "38218      54200 roof tile 1x1 276L.png     54200\n",
      "14542           3001 brick 2x4 321R.png      3001\n",
      "4288      3062 Round Brick 1x1 355R.png      3062\n",
      "\n",
      "[24000 rows x 2 columns]\n",
      "Test data:\n",
      "                                         Image File Lego Type\n",
      "22816               2780 Peg with friction 106L.png      2780\n",
      "20608  43093 Bush 2M friction - Cross axle 079R.png     43093\n",
      "21816           99301 roof tile inside 3x3 336L.png     99301\n",
      "35393                   4286 roof tile 1x3 300L.png      4286\n",
      "8822               2357 brick corner 1x2x2 116R.png      2357\n",
      "...                                             ...       ...\n",
      "38526           99301 roof tile inside 3x3 301R.png     99301\n",
      "37268               3700 Technic Brick 1x2 083L.png      3700\n",
      "30252                   3069 Flat Tile 1x2 234L.png      3069\n",
      "14139                       3622 brick 1x3 089R.png      3622\n",
      "35729           14719 flat tile corner 2x2 360R.png     14719\n",
      "\n",
      "[16000 rows x 2 columns]\n"
     ]
    }
   ],
   "source": [
    "train_size_per_class = len(train_data[train_data['Lego Type'] == '3068'])\n",
    "print(train_size_per_class)\n",
    "\n",
    "print(\"Training data:\")\n",
    "print(train_data)\n",
    "\n",
    "print(\"Test data:\")\n",
    "print(test_data)"
   ]
  },
  {
   "attachments": {},
   "cell_type": "markdown",
   "metadata": {},
   "source": [
    "Agora, vamos carregar as imagens de treinamento no DataFrame"
   ]
  },
  {
   "cell_type": "code",
   "execution_count": 4,
   "metadata": {},
   "outputs": [],
   "source": [
    "from PIL import Image\n",
    "import numpy as np\n",
    "\n",
    "def load_image(image_path):\n",
    "    img = np.asarray(Image.open(os.path.join(DATASET_PATH, image_path)).convert('L'))\n",
    "    return img\n",
    "\n",
    "train_data['Image'] = train_data['Image File'].apply(load_image)"
   ]
  },
  {
   "cell_type": "code",
   "execution_count": 5,
   "metadata": {},
   "outputs": [
    {
     "name": "stdout",
     "output_type": "stream",
     "text": [
      "Training data:\n",
      "                             Image File Lego Type  \\\n",
      "19611           3023 Plate 1x2 293L.png      3023   \n",
      "2724        3659 brick bow 1x4 045R.png      3659   \n",
      "20079       3038 roof tile 2x3 262R.png      3038   \n",
      "11052      85984 roof tile 1x2 223R.png     85984   \n",
      "8848       15672 roof tile 1x2 246R.png     15672   \n",
      "...                                 ...       ...   \n",
      "19143  2357 brick corner 1x2x2 088L.png      2357   \n",
      "18377            18654 beam 1M 195R.png     18654   \n",
      "38218      54200 roof tile 1x1 276L.png     54200   \n",
      "14542           3001 brick 2x4 321R.png      3001   \n",
      "4288      3062 Round Brick 1x1 355R.png      3062   \n",
      "\n",
      "                                                   Image  \n",
      "19611  [[0, 0, 0, 0, 0, 0, 0, 0, 0, 0, 0, 0, 0, 0, 0,...  \n",
      "2724   [[0, 0, 0, 0, 0, 0, 0, 0, 0, 0, 0, 0, 0, 0, 0,...  \n",
      "20079  [[0, 0, 0, 0, 0, 0, 0, 0, 0, 0, 0, 0, 0, 0, 0,...  \n",
      "11052  [[0, 0, 0, 0, 0, 0, 0, 0, 0, 0, 0, 0, 0, 0, 0,...  \n",
      "8848   [[0, 0, 0, 0, 0, 0, 0, 0, 0, 0, 0, 0, 0, 0, 0,...  \n",
      "...                                                  ...  \n",
      "19143  [[0, 0, 0, 0, 0, 0, 0, 0, 0, 0, 0, 0, 0, 0, 0,...  \n",
      "18377  [[0, 0, 0, 0, 0, 0, 0, 0, 0, 0, 0, 0, 0, 0, 0,...  \n",
      "38218  [[0, 0, 0, 0, 0, 0, 0, 0, 0, 0, 0, 0, 0, 0, 0,...  \n",
      "14542  [[0, 0, 0, 0, 0, 0, 0, 0, 0, 0, 0, 0, 0, 0, 0,...  \n",
      "4288   [[0, 0, 0, 0, 0, 0, 0, 0, 0, 0, 0, 0, 0, 0, 0,...  \n",
      "\n",
      "[24000 rows x 3 columns]\n"
     ]
    }
   ],
   "source": [
    "print('Training data:')\n",
    "print(train_data)"
   ]
  },
  {
   "attachments": {},
   "cell_type": "markdown",
   "metadata": {},
   "source": [
    "Visualizando uma imagem do DataFrame"
   ]
  },
  {
   "cell_type": "code",
   "execution_count": 6,
   "metadata": {},
   "outputs": [
    {
     "name": "stdout",
     "output_type": "stream",
     "text": [
      "Image File            3046 roof corner inside tile 2x2 395R.png\n",
      "Lego Type                                                  3046\n",
      "Image         [[0, 0, 0, 0, 0, 0, 0, 0, 0, 0, 0, 0, 0, 0, 0,...\n",
      "Name: 18825, dtype: object\n"
     ]
    },
    {
     "data": {
      "text/plain": [
       "<matplotlib.image.AxesImage at 0x7f7f1eaca860>"
      ]
     },
     "execution_count": 6,
     "metadata": {},
     "output_type": "execute_result"
    },
    {
     "data": {
      "image/png": "[encoded data removed]",
      "text/plain": [
       "<Figure size 640x480 with 1 Axes>"
      ]
     },
     "metadata": {},
     "output_type": "display_data"
    }
   ],
   "source": [
    "import matplotlib.pyplot as plt\n",
    "\n",
    "image_sample = train_data.iloc[8]\n",
    "print(image_sample)\n",
    "\n",
    "plt.imshow(image_sample['Image'], cmap='gray')\n"
   ]
  },
  {
   "attachments": {},
   "cell_type": "markdown",
   "metadata": {},
   "source": [
    "### 2 SVD da matriz de dados centralizados\n",
    "\n",
    "Antes de calcular o SVD, iremos calcular a matriz de dados centralizados $X$ para os dados de treinamento. Para isto, precisamos achatar cada imagem em um vetor e juntar todas em uma grande matriz $A$, onde as linhas serão as imagens e as colunas serão características."
   ]
  },
  {
   "cell_type": "code",
   "execution_count": 7,
   "metadata": {},
   "outputs": [
    {
     "name": "stdout",
     "output_type": "stream",
     "text": [
      "All images DF shape: (24000,)\n",
      "Image shape: (400, 400)\n",
      "A matrix shape: (24000, 160000)\n",
      "[[0 0 0 ... 0 0 0]\n",
      " [0 0 0 ... 0 0 0]\n",
      " [0 0 0 ... 0 0 0]\n",
      " ...\n",
      " [0 0 0 ... 0 0 0]\n",
      " [0 0 0 ... 0 0 0]\n",
      " [0 0 0 ... 0 0 0]]\n"
     ]
    }
   ],
   "source": [
    "images = train_data['Image'].to_numpy()\n",
    "print(f'All images DF shape: {images.shape}')\n",
    "print(f'Image shape: {images[0].shape}')\n",
    "\n",
    "A = np.array([image.flatten() for image in images])\n",
    "print(f'A matrix shape: {A.shape}')\n",
    "print(A)"
   ]
  },
  {
   "attachments": {},
   "cell_type": "markdown",
   "metadata": {},
   "source": [
    "Agora vamos tirar a média de cada coluna de $A$ e subtrair o vetor de médias obtido de A, elemento por elemento"
   ]
  },
  {
   "cell_type": "code",
   "execution_count": 8,
   "metadata": {},
   "outputs": [
    {
     "ename": "MemoryError",
     "evalue": "Unable to allocate 28.6 GiB for an array with shape (24000, 160000) and data type float64",
     "output_type": "error",
     "traceback": [
      "\u001b[0;31m---------------------------------------------------------------------------\u001b[0m",
      "\u001b[0;31mMemoryError\u001b[0m                               Traceback (most recent call last)",
      "Cell \u001b[0;32mIn[8], line 2\u001b[0m\n\u001b[1;32m      1\u001b[0m mean_A \u001b[39m=\u001b[39m np\u001b[39m.\u001b[39mmean(A, axis\u001b[39m=\u001b[39m\u001b[39m0\u001b[39m) \u001b[39m# média ao longo das linhas (para cada coluna)\u001b[39;00m\n\u001b[0;32m----> 2\u001b[0m X \u001b[39m=\u001b[39m A \u001b[39m-\u001b[39;49m mean_A\n\u001b[1;32m      4\u001b[0m \u001b[39mprint\u001b[39m(mean_A)\n\u001b[1;32m      5\u001b[0m \u001b[39mprint\u001b[39m(X)\n",
      "\u001b[0;31mMemoryError\u001b[0m: Unable to allocate 28.6 GiB for an array with shape (24000, 160000) and data type float64"
     ]
    }
   ],
   "source": [
    "mean_A = np.mean(A, axis=0) # média ao longo das linhas (para cada coluna)\n",
    "X = A - mean_A\n",
    "\n",
    "print(mean_A)\n",
    "print(X)"
   ]
  },
  {
   "attachments": {},
   "cell_type": "markdown",
   "metadata": {},
   "source": [
    "Agora, calculamos a SVD de $X$."
   ]
  },
  {
   "attachments": {},
   "cell_type": "markdown",
   "metadata": {},
   "source": [
    "Vamos agora gerar um gráfico de número de valores singulares versus variabilidade acumulada."
   ]
  }
 ],
 "metadata": {
  "kernelspec": {
   "display_name": "fadWork2Venv",
   "language": "python",
   "name": "fadwork2venv"
  },
  "language_info": {
   "codemirror_mode": {
    "name": "ipython",
    "version": 3
   },
   "file_extension": ".py",
   "mimetype": "text/x-python",
   "name": "python",
   "nbconvert_exporter": "python",
   "pygments_lexer": "ipython3",
   "version": "3.10.12"
  },
  "orig_nbformat": 4
 },
 "nbformat": 4,
 "nbformat_minor": 2
}
