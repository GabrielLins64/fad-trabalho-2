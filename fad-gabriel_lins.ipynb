{
 "cells": [
  {
   "attachments": {},
   "cell_type": "markdown",
   "metadata": {},
   "source": [
    "<center>\n",
    "  <img src=\"assets/lamac-uece.png\" width=\"450\">\n",
    "  <h2>Universidade Estadual do Ceará</h2>\n",
    "  <h2>Laboratório de Matemática Computacional (LaMaC)</h2>\n",
    "</center>"
   ]
  },
  {
   "attachments": {},
   "cell_type": "markdown",
   "metadata": {},
   "source": [
    "## Disciplina de Fundamentos de Análise de Dados\n",
    "\n",
    "**Docente**: Prof. Thelmo Pontes de Araújo, Ph.D.<br>\n",
    "**Discente**: B.Sc. Gabriel Furtado Lins Melo"
   ]
  },
  {
   "attachments": {},
   "cell_type": "markdown",
   "metadata": {},
   "source": [
    "---"
   ]
  },
  {
   "attachments": {},
   "cell_type": "markdown",
   "metadata": {},
   "source": [
    "### Classificação: SVD\n",
    "\n",
    "A Decomposição de Valor Singular (SVD), como visto, encontra os au-\n",
    "tovetores e (a raiz quadrada dos) autovalores da matriz de covariância dos\n",
    "dados X T X , sem calculá-la explicitamente. Assim, a redução de dimensio-\n",
    "nalidade para o problema de classificação pode ser realizada utilizando\n",
    "\n",
    "$$ X = USV^T $$"
   ]
  },
  {
   "attachments": {},
   "cell_type": "markdown",
   "metadata": {},
   "source": [
    "### 1 Banco de Dados\n",
    "\n",
    "Inicialmente, obtemos o nome de arquivo dos dados do dataset e seus rótulos (labels). Então pegamos, também, os rótulos individualmente (unique_labels)"
   ]
  },
  {
   "cell_type": "code",
   "execution_count": 1,
   "metadata": {},
   "outputs": [
    {
     "name": "stdout",
     "output_type": "stream",
     "text": [
      "Number of labels: 50\n",
      "{'6632', '3700', '3794', '54200', '99301', '27925', '85984', '43857', '2420', '3020', '3005', '6143', '33909', '43093', '3298', '3010', '3040', '41678', '18654', '3623', '2780', '3039', '41677', '3070', '3022', '4274', '3003', '2357', '14719', '3068', '3024', '3037', '3021', '3002', '3063', '4490', '3038', '3045', '3001', '3675', '3622', '3046', '3004', '3023', '3062', '4150', '15672', '4286', '3069', '3659'}\n"
     ]
    }
   ],
   "source": [
    "import os\n",
    "\n",
    "DATASET_PATH = 'dataset/dataset/'\n",
    "\n",
    "filenames = os.listdir(DATASET_PATH)\n",
    "labels = [filename.split(' ')[0] for filename in filenames]\n",
    "unique_labels = set(labels)\n",
    "\n",
    "print(f'Number of labels: {len(unique_labels)}')\n",
    "print(unique_labels)"
   ]
  },
  {
   "attachments": {},
   "cell_type": "markdown",
   "metadata": {},
   "source": [
    "Então, carregaremos em um DataFrame Pandas os nomes de arquivos e os labes (não iremos carregar as imagens em memória até o momento adequado) e usamos o scikit-learn para separá-lo em conjuntos de treinamento e teste (60% / 40%)."
   ]
  },
  {
   "cell_type": "code",
   "execution_count": 2,
   "metadata": {},
   "outputs": [],
   "source": [
    "import pandas as pd\n",
    "from sklearn.model_selection import train_test_split\n",
    "\n",
    "data = pd.DataFrame({'Image File': filenames, 'Lego Type': labels})\n",
    "train_data, test_data = train_test_split(data, test_size=0.4, stratify=data['Lego Type'], random_state=43)"
   ]
  },
  {
   "cell_type": "code",
   "execution_count": 3,
   "metadata": {},
   "outputs": [
    {
     "name": "stdout",
     "output_type": "stream",
     "text": [
      "480\n",
      "Training data:\n",
      "                             Image File Lego Type\n",
      "19611           3023 Plate 1x2 293L.png      3023\n",
      "2724        3659 brick bow 1x4 045R.png      3659\n",
      "20079       3038 roof tile 2x3 262R.png      3038\n",
      "11052      85984 roof tile 1x2 223R.png     85984\n",
      "8848       15672 roof tile 1x2 246R.png     15672\n",
      "...                                 ...       ...\n",
      "19143  2357 brick corner 1x2x2 088L.png      2357\n",
      "18377            18654 beam 1M 195R.png     18654\n",
      "38218      54200 roof tile 1x1 276L.png     54200\n",
      "14542           3001 brick 2x4 321R.png      3001\n",
      "4288      3062 Round Brick 1x1 355R.png      3062\n",
      "\n",
      "[24000 rows x 2 columns]\n",
      "Test data:\n",
      "                                         Image File Lego Type\n",
      "22816               2780 Peg with friction 106L.png      2780\n",
      "20608  43093 Bush 2M friction - Cross axle 079R.png     43093\n",
      "21816           99301 roof tile inside 3x3 336L.png     99301\n",
      "35393                   4286 roof tile 1x3 300L.png      4286\n",
      "8822               2357 brick corner 1x2x2 116R.png      2357\n",
      "...                                             ...       ...\n",
      "38526           99301 roof tile inside 3x3 301R.png     99301\n",
      "37268               3700 Technic Brick 1x2 083L.png      3700\n",
      "30252                   3069 Flat Tile 1x2 234L.png      3069\n",
      "14139                       3622 brick 1x3 089R.png      3622\n",
      "35729           14719 flat tile corner 2x2 360R.png     14719\n",
      "\n",
      "[16000 rows x 2 columns]\n"
     ]
    }
   ],
   "source": [
    "train_size_per_class = len(train_data[train_data['Lego Type'] == '3068'])\n",
    "print(train_size_per_class)\n",
    "\n",
    "print(\"Training data:\")\n",
    "print(train_data)\n",
    "\n",
    "print(\"Test data:\")\n",
    "print(test_data)"
   ]
  },
  {
   "attachments": {},
   "cell_type": "markdown",
   "metadata": {},
   "source": [
    "Agora, vamos carregar as imagens de treinamento no DataFrame e reduzir seus tamanhos de 400x400 para 40x40."
   ]
  },
  {
   "cell_type": "code",
   "execution_count": 4,
   "metadata": {},
   "outputs": [],
   "source": [
    "import cv2\n",
    "import numpy as np\n",
    "\n",
    "def load_image(image_path):\n",
    "    img = cv2.imread(os.path.join(DATASET_PATH, image_path), cv2.IMREAD_GRAYSCALE)\n",
    "    return cv2.resize(img, (40,40))\n",
    "\n",
    "train_data['Image'] = train_data['Image File'].apply(load_image)"
   ]
  },
  {
   "attachments": {},
   "cell_type": "markdown",
   "metadata": {},
   "source": []
  },
  {
   "cell_type": "code",
   "execution_count": 5,
   "metadata": {},
   "outputs": [
    {
     "name": "stdout",
     "output_type": "stream",
     "text": [
      "Training data:\n",
      "                             Image File Lego Type  \\\n",
      "19611           3023 Plate 1x2 293L.png      3023   \n",
      "2724        3659 brick bow 1x4 045R.png      3659   \n",
      "20079       3038 roof tile 2x3 262R.png      3038   \n",
      "11052      85984 roof tile 1x2 223R.png     85984   \n",
      "8848       15672 roof tile 1x2 246R.png     15672   \n",
      "...                                 ...       ...   \n",
      "19143  2357 brick corner 1x2x2 088L.png      2357   \n",
      "18377            18654 beam 1M 195R.png     18654   \n",
      "38218      54200 roof tile 1x1 276L.png     54200   \n",
      "14542           3001 brick 2x4 321R.png      3001   \n",
      "4288      3062 Round Brick 1x1 355R.png      3062   \n",
      "\n",
      "                                                   Image  \n",
      "19611  [[0, 0, 0, 0, 0, 0, 0, 0, 0, 0, 0, 0, 0, 0, 0,...  \n",
      "2724   [[0, 0, 0, 0, 0, 0, 0, 0, 0, 0, 0, 0, 0, 0, 0,...  \n",
      "20079  [[0, 0, 0, 0, 0, 0, 0, 0, 0, 0, 0, 0, 0, 0, 0,...  \n",
      "11052  [[0, 0, 0, 0, 0, 0, 0, 0, 0, 0, 0, 0, 0, 0, 0,...  \n",
      "8848   [[0, 0, 0, 0, 0, 0, 0, 0, 0, 0, 0, 0, 0, 0, 0,...  \n",
      "...                                                  ...  \n",
      "19143  [[0, 0, 0, 0, 0, 0, 0, 0, 0, 0, 0, 0, 0, 0, 0,...  \n",
      "18377  [[0, 0, 0, 0, 0, 0, 0, 0, 0, 0, 0, 0, 0, 0, 0,...  \n",
      "38218  [[0, 0, 0, 0, 0, 0, 0, 0, 0, 0, 0, 0, 0, 0, 0,...  \n",
      "14542  [[0, 0, 0, 0, 0, 0, 0, 0, 0, 0, 0, 0, 0, 0, 0,...  \n",
      "4288   [[0, 0, 0, 0, 0, 0, 0, 0, 0, 0, 0, 0, 0, 0, 0,...  \n",
      "\n",
      "[24000 rows x 3 columns]\n"
     ]
    }
   ],
   "source": [
    "print('Training data:')\n",
    "print(train_data)"
   ]
  },
  {
   "attachments": {},
   "cell_type": "markdown",
   "metadata": {},
   "source": [
    "Visualizando uma imagem do DataFrame"
   ]
  },
  {
   "cell_type": "code",
   "execution_count": 11,
   "metadata": {},
   "outputs": [
    {
     "name": "stdout",
     "output_type": "stream",
     "text": [
      "Image File            3046 roof corner inside tile 2x2 395R.png\n",
      "Lego Type                                                  3046\n",
      "Image         [[0, 0, 0, 0, 0, 0, 0, 0, 0, 0, 0, 0, 0, 0, 0,...\n",
      "Name: 18825, dtype: object\n",
      "Shape: (40, 40)\n"
     ]
    },
    {
     "data": {
      "image/png": "[encoded data removed]",
      "text/plain": [
       "<Figure size 200x200 with 1 Axes>"
      ]
     },
     "metadata": {},
     "output_type": "display_data"
    }
   ],
   "source": [
    "import matplotlib.pyplot as plt\n",
    "\n",
    "image_sample = train_data.iloc[8]\n",
    "print(image_sample)\n",
    "print(f'Shape: {image_sample[\"Image\"].shape}')\n",
    "\n",
    "fig = plt.figure(figsize=(2, 2)) # 4x4 inches\n",
    "plt.imshow(image_sample['Image'], cmap='gray')\n",
    "plt.axis('off')\n",
    "plt.show()"
   ]
  },
  {
   "attachments": {},
   "cell_type": "markdown",
   "metadata": {},
   "source": [
    "### 2 SVD da matriz de dados centralizados\n",
    "\n",
    "Antes de calcular o SVD, iremos calcular a matriz de dados centralizados $X$ para os dados de treinamento. Para isto, precisamos achatar cada imagem em um vetor e juntar todas em uma grande matriz $A$, onde as linhas serão as imagens e as colunas serão características."
   ]
  },
  {
   "cell_type": "code",
   "execution_count": 12,
   "metadata": {},
   "outputs": [
    {
     "name": "stdout",
     "output_type": "stream",
     "text": [
      "All images DF shape: (24000,)\n",
      "Image shape: (40, 40)\n",
      "A matrix shape: (24000, 1600)\n",
      "[[0 0 0 ... 0 0 0]\n",
      " [0 0 0 ... 0 0 0]\n",
      " [0 0 0 ... 0 0 0]\n",
      " ...\n",
      " [0 0 0 ... 0 0 0]\n",
      " [0 0 0 ... 0 0 0]\n",
      " [0 0 0 ... 0 0 0]]\n"
     ]
    }
   ],
   "source": [
    "images = train_data['Image'].to_numpy()\n",
    "print(f'All images DF shape: {images.shape}')\n",
    "print(f'Image shape: {images[0].shape}')\n",
    "\n",
    "A = np.array([image.flatten() for image in images])\n",
    "print(f'A matrix shape: {A.shape}')\n",
    "print(A)"
   ]
  },
  {
   "attachments": {},
   "cell_type": "markdown",
   "metadata": {},
   "source": [
    "Agora vamos tirar a média de cada coluna de $A$, gerando um vetor de médias $\\mu$. Finalmente, subtraímos de $A$ as médias de suas colunas que estão em $\\mu$ para obter a matriz de dados centralizados $X$:\n",
    "\n",
    "$$ X = A - \\mu $$"
   ]
  },
  {
   "cell_type": "code",
   "execution_count": 20,
   "metadata": {},
   "outputs": [
    {
     "name": "stdout",
     "output_type": "stream",
     "text": [
      "A shape: (24000, 1600)\n",
      "X shape: (24000, 1600)\n",
      "mu shape: (1600,)\n"
     ]
    }
   ],
   "source": [
    "mu = np.mean(A, axis=0)\n",
    "X = A - mu\n",
    "\n",
    "print(f'A shape: {A.shape}')\n",
    "print(f'X shape: {X.shape}')\n",
    "print(f'mu shape: {mu.shape}')\n",
    "\n",
    "# print(A[11990:12010,710])\n",
    "# print(X[11990:12010,710])\n",
    "# print(mu[710])"
   ]
  },
  {
   "attachments": {},
   "cell_type": "markdown",
   "metadata": {},
   "source": [
    "Agora, calculamos a SVD de $X$."
   ]
  },
  {
   "cell_type": "code",
   "execution_count": 21,
   "metadata": {},
   "outputs": [],
   "source": [
    "U, S, Vt = np.linalg.svd(X, full_matrices=False)"
   ]
  },
  {
   "cell_type": "code",
   "execution_count": 22,
   "metadata": {},
   "outputs": [
    {
     "name": "stdout",
     "output_type": "stream",
     "text": [
      "U shape: (24000, 1600)\n",
      "S shape: (1600,)\n",
      "Vt shape: (1600, 1600)\n"
     ]
    }
   ],
   "source": [
    "print(f'U shape: {U.shape}')\n",
    "print(f'S shape: {S.shape}')\n",
    "print(f'Vt shape: {Vt.shape}')"
   ]
  },
  {
   "attachments": {},
   "cell_type": "markdown",
   "metadata": {},
   "source": [
    "Vamos agora gerar um gráfico de número de valores singulares versus variabilidade acumulada."
   ]
  },
  {
   "cell_type": "code",
   "execution_count": 23,
   "metadata": {},
   "outputs": [],
   "source": [
    "variability = np.square(S) / np.sum(np.square(S))\n",
    "cumulative_variability = np.cumsum(variability)"
   ]
  },
  {
   "cell_type": "code",
   "execution_count": 32,
   "metadata": {},
   "outputs": [
    {
     "data": {
      "image/png": "[encoded data removed]",
      "text/plain": [
       "<Figure size 640x480 with 1 Axes>"
      ]
     },
     "metadata": {},
     "output_type": "display_data"
    }
   ],
   "source": [
    "plt.plot(range(len(S)), cumulative_variability)\n",
    "plt.xlabel('Number of Singular Values')\n",
    "plt.ylabel('Cumulative Variability')\n",
    "plt.title('Singular Values vs Cumulative Variability')\n",
    "plt.grid(True)\n",
    "plt.show()"
   ]
  }
 ],
 "metadata": {
  "kernelspec": {
   "display_name": "fadWork2Venv",
   "language": "python",
   "name": "fadwork2venv"
  },
  "language_info": {
   "codemirror_mode": {
    "name": "ipython",
    "version": 3
   },
   "file_extension": ".py",
   "mimetype": "text/x-python",
   "name": "python",
   "nbconvert_exporter": "python",
   "pygments_lexer": "ipython3",
   "version": "3.10.12"
  },
  "orig_nbformat": 4
 },
 "nbformat": 4,
 "nbformat_minor": 2
}
